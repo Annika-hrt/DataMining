{
 "cells": [
  {
   "cell_type": "markdown",
   "metadata": {},
   "source": [
    "# An Introduction to Python\n",
    "*Institute of Neural Information Processing at the University of Ulm*\n",
    "\n",
    "This is a short introduction to Python which we are using in our lectures. Python is a free programming language and very easy to use.\n",
    "\n",
    "## Installation\n",
    "For scientific programming, we recommend Anaconda as Python distribution since it contains a package and environment manager and it comes pre-installed with many useful packages. For our lectures, you need to set up your environment as follows:\n",
    "\n",
    "- Install Anaconda: [https://www.anaconda.com/download/](https://www.anaconda.com/download/)\n",
    "- Open a command prompt (e.g. the `Anaconda Prompt`)\n",
    "    - Install NodeJS: `conda install nodejs`\n",
    "    - Install the [matplotlib Jupyter extension](https://github.com/matplotlib/jupyter-matplotlib) (required for interactive widgets)\n",
    "        - `conda install -c conda-forge ipympl`\n",
    "        - `jupyter labextension install @jupyter-widgets/jupyterlab-manager`\n",
    "        - `jupyter labextension install jupyter-matplotlib`\n",
    "    - Install [Plotly](https://plot.ly/python/) (based on the instructions from the [official repository](https://github.com/plotly/plotly.py#installation))\n",
    "        - `conda install -c plotly plotly`\n",
    "        - `jupyter labextension install plotlywidget`\n",
    "        - `jupyter labextension install @jupyterlab/plotly-extension`\n",
    "    - (Optional) Install the [variable explorer](https://github.com/lckr/jupyterlab-variableInspector): `jupyter labextension install @lckr/jupyterlab_variableinspector`\n",
    "\n",
    "After the installation, you can navigate to a folder and start the Jupyter environment via `jupyter lab`. Some general tips to work efficiently in the lab can be found in [this blog post](https://florianwilhelm.info/2018/11/working_efficiently_with_jupyter_lab/).\n",
    "\n",
    "## Keyboard Shortcuts\n",
    "There are three important keyboard shortcuts when using the Jupyter lab:\n",
    "- `SHIFT + ENTER`: execute a cell.\n",
    "- `SHIFT + TAB`: open the documentation for the current element.\n",
    "- `TAB`: autocompletion.\n",
    "\n",
    "## Package Management \n",
    "There are two possibilities to install new packages, see [https://conda.io/docs/user-guide/tasks/manage-pkgs.html](https://conda.io/docs/user-guide/tasks/manage-pkgs.html):\n",
    "- packages from Anaconda\n",
    "- non-conda packages\n",
    "\n",
    "### Packages from Anaconda\n",
    "- To search whether packages are available on Anaconda, use: `conda search package-name`\n",
    "- To install the package, use: `conda install package-name` or for a certain environment use: `conda install package-name -n env_py36`\n",
    "\n",
    "### Non-Conda Packages\n",
    "If you want to install non-conda packages, you can use pip. The idea is the same as with packages from Anaconda: `pip install package-name`.\n",
    "\n",
    "## Basic Python Syntax\n",
    "Now, let's start with some basic coding. In Python, variables are implicitly typed meaning we don't have to specify the types explicitly as it is the case with other (low-level) languages:"
   ]
  },
  {
   "cell_type": "code",
   "execution_count": 1,
   "metadata": {},
   "outputs": [
    {
     "name": "stdout",
     "output_type": "stream",
     "text": [
      "type of a is:  <class 'int'>\n",
      "type of b is:  <class 'str'>\n",
      "type of c is:  <class 'float'>\n"
     ]
    }
   ],
   "source": [
    "a = 2  # integer value\n",
    "print('type of a is: ', type(a))\n",
    "\n",
    "b = '5'  # string\n",
    "print('type of b is: ', type(b))\n",
    "\n",
    "c = 3.0  # float value\n",
    "print('type of c is: ', type(c))"
   ]
  },
  {
   "cell_type": "markdown",
   "metadata": {},
   "source": [
    "### Lists, Tuples and Dictionaries\n",
    "Next, let´s take a look at some basic data structures. First, we will focus on how to create and iterate through lists and tupels and then proceed further with the implementation of dictionaries. Lists can be used without pre-defining their length."
   ]
  },
  {
   "cell_type": "code",
   "execution_count": 2,
   "metadata": {},
   "outputs": [
    {
     "name": "stdout",
     "output_type": "stream",
     "text": [
      "Empty list:  []\n",
      "Filled list:  [1, 2, 3]\n",
      "Address second entry [1] in the first list [0]:  3\n",
      "List with added entry:  [1, 2, 3, 4]\n"
     ]
    }
   ],
   "source": [
    "# Create lists:\n",
    "l1 = []  # Empty list\n",
    "l2 = [1, 2, 3]  # list\n",
    "l3 = [[1, 3], [2, 6, 1], [1, 3]]  # lists in list\n",
    "\n",
    "print('Empty list: ', l1)\n",
    "print('Filled list: ', l2)\n",
    "print('Address second entry [1] in the first list [0]: ', l3[0][1])\n",
    "\n",
    "# Add new entry to list:\n",
    "l2.append(4)\n",
    "print('List with added entry: ', l2)"
   ]
  },
  {
   "cell_type": "code",
   "execution_count": 3,
   "metadata": {
    "collapsed": false
   },
   "outputs": [
    {
     "name": "stdout",
     "output_type": "stream",
     "text": [
      "Address first entry of tuple t:  1\n"
     ]
    }
   ],
   "source": [
    "# Create tuples:\n",
    "t = (1,2)\n",
    "print('Address first entry of tuple t: ', t[0])"
   ]
  },
  {
   "cell_type": "markdown",
   "metadata": {},
   "source": [
    "The difference between lists and tuples is that the latter are immutable, i.e. its content can't be changed after definition."
   ]
  },
  {
   "cell_type": "code",
   "execution_count": 4,
   "metadata": {},
   "outputs": [],
   "source": [
    "#t[0]=2"
   ]
  },
  {
   "cell_type": "markdown",
   "metadata": {},
   "source": [
    "List comprehensions are an easy way to fill lists:"
   ]
  },
  {
   "cell_type": "code",
   "execution_count": 5,
   "metadata": {},
   "outputs": [
    {
     "name": "stdout",
     "output_type": "stream",
     "text": [
      "List created using list comprehension:  [0, 1, 2, 3, 4]\n"
     ]
    }
   ],
   "source": [
    "lc = [i for i in range(5)]\n",
    "print('List created using list comprehension: ', lc)"
   ]
  },
  {
   "cell_type": "markdown",
   "metadata": {},
   "source": [
    "There are two things to note here:\n",
    "\n",
    "- The `range` specification **excludes the last value**. We iterated until the value of 5 but this value is not included within the list.\n",
    "- The iteration **starts at 0** (index-based).\n",
    "\n",
    "#### Iterating\n",
    "We can easily iterate through lists in the following way. Note, that <font color='red'>loops and conditions require a specific syntax</font>. It is necessary to either use tabspace or empty spaces consistently during your script. Another important step is to use a colon at the end of the condition/loop."
   ]
  },
  {
   "cell_type": "code",
   "execution_count": 6,
   "metadata": {},
   "outputs": [
    {
     "name": "stdout",
     "output_type": "stream",
     "text": [
      "_____________________________________\n",
      "Iterate through a list using method 1:\n",
      "0\n",
      "1\n",
      "2\n",
      "3\n",
      "4\n",
      "_____________________________________\n",
      "Iterate through a list using method 2:\n",
      "0\n",
      "1\n",
      "2\n",
      "3\n",
      "4\n"
     ]
    }
   ],
   "source": [
    "# First way of iterating through a list\n",
    "print('_____________________________________')\n",
    "print('Iterate through a list using method 1:')\n",
    "for entry in lc:\n",
    "    print(entry)\n",
    "    \n",
    "print('_____________________________________')\n",
    "\n",
    "# Second way of iterating through a list (useful if the index of the elements is required)\n",
    "print('Iterate through a list using method 2:')\n",
    "for i, entry in enumerate(lc):\n",
    "    print(lc[i])"
   ]
  },
  {
   "cell_type": "markdown",
   "metadata": {},
   "source": [
    "#### Operating on Lists:\n",
    "Python allows us to operate easily on lists. We can combine two lists or multiply some lists quite easy."
   ]
  },
  {
   "cell_type": "code",
   "execution_count": 7,
   "metadata": {},
   "outputs": [
    {
     "name": "stdout",
     "output_type": "stream",
     "text": [
      "First list: [1, 2, 3, 4], 2nd list: [0, 1, 2, 3, 4] and combined list: [1, 2, 3, 4, 0, 1, 2, 3, 4]\n",
      "Initial list: [0, 1, 2, 3, 4] and repeated list: [0, 1, 2, 3, 4, 0, 1, 2, 3, 4, 0, 1, 2, 3, 4]\n"
     ]
    }
   ],
   "source": [
    "# Combine two lists:\n",
    "combined_list = l2 + lc\n",
    "print('First list: %s, 2nd list: %s and combined list: %s' % (l2, lc, combined_list))\n",
    "\n",
    "# Repeat a list:\n",
    "mul_list = lc * 3\n",
    "print('Initial list: %s and repeated list: %s' % (lc, mul_list))\n"
   ]
  },
  {
   "cell_type": "markdown",
   "metadata": {},
   "source": [
    "#### Dictionaries\n",
    "We can also use some dictionaries within Python which are a handy way to store different types in an object-like structure. A dictionary stores a value based on a pre-defined key."
   ]
  },
  {
   "cell_type": "code",
   "execution_count": 8,
   "metadata": {},
   "outputs": [
    {
     "name": "stdout",
     "output_type": "stream",
     "text": [
      "First attribute in the dictionary:  154\n",
      "Second attribute in the dictionary:  Your Name\n",
      "Dictionary with the new added entry:  {'attr1': 154, 'attr2': 'Your Name', 'new_attr': 'iphone'}\n"
     ]
    }
   ],
   "source": [
    "# Create a new dictionary:\n",
    "my_dict = {\n",
    "    'attr1': 154,\n",
    "    'attr2': 'Your Name'\n",
    "}\n",
    "\n",
    "########\n",
    "## Retrieve an attribute\n",
    "# First method:\n",
    "a1 = my_dict['attr1']\n",
    "print('First attribute in the dictionary: ', a1)\n",
    "\n",
    "# Second method:\n",
    "a2 = my_dict.get('attr2')\n",
    "print('Second attribute in the dictionary: ', a2)\n",
    "\n",
    "########\n",
    "## Add new elements to existing dictionary:\n",
    "my_dict['new_attr'] = 'iphone'\n",
    "print('Dictionary with the new added entry: ', repr(my_dict))"
   ]
  },
  {
   "cell_type": "markdown",
   "metadata": {},
   "source": [
    "When iterating through a dictionary, it is possible to return only the keys or values. But one can also return both entries at the same time."
   ]
  },
  {
   "cell_type": "code",
   "execution_count": 9,
   "metadata": {},
   "outputs": [
    {
     "name": "stdout",
     "output_type": "stream",
     "text": [
      "______________________________________________\n",
      "Return the keys of a dictionary:\n",
      "154\n",
      "Your Name\n",
      "iphone\n",
      "______________________________________________\n",
      "Return the values of a dictionary:\n",
      "154\n",
      "Your Name\n",
      "iphone\n",
      "______________________________________________\n",
      "Return the values of a dictionary:\n",
      "attr1 154\n",
      "attr2 Your Name\n",
      "new_attr iphone\n"
     ]
    }
   ],
   "source": [
    "# Return the keys:\n",
    "print('______________________________________________')\n",
    "print('Return the keys of a dictionary:')\n",
    "for key in my_dict:\n",
    "    print(my_dict[key])\n",
    "\n",
    "# Return the values\n",
    "print('______________________________________________')\n",
    "print('Return the values of a dictionary:')\n",
    "for value in my_dict.values():\n",
    "    print(value)\n",
    "    \n",
    "# Return the keys and corresponding values\n",
    "print('______________________________________________')\n",
    "print('Return the values of a dictionary:')\n",
    "for key, value in my_dict.items():\n",
    "    print(key, value)"
   ]
  },
  {
   "cell_type": "markdown",
   "metadata": {},
   "source": [
    "## NumPy Package\n",
    "Now that we know how to work with lists, tuples and dictionaries, we can take a look at the NumPy package. This allows us to work with multi-dimensional arrays and matrices as well as some high-level mathematical functions. A useful article can be found here: [https://www.i-programmer.info/programming/python/5785-advanced-python-arrays-introducing-numpy.html](https://www.i-programmer.info/programming/python/5785-advanced-python-arrays-introducing-numpy.html). <br>\n",
    "\n",
    "Let´s start by creating a simple vector and a matrix. Therefore, we have to import the NumPy package first."
   ]
  },
  {
   "cell_type": "code",
   "execution_count": 10,
   "metadata": {},
   "outputs": [
    {
     "name": "stdout",
     "output_type": "stream",
     "text": [
      "NumPy vector:  [1 2 3 4]\n",
      "_________________________\n",
      "NumPy matrix: \n",
      "[[1 2]\n",
      " [3 4]]\n"
     ]
    }
   ],
   "source": [
    "# Import the NumPy Package and assign a name to it (np is a frequently used abbreviation)\n",
    "import numpy as np\n",
    "\n",
    "# Create a vector with numpy\n",
    "vec = np.array([1, 2, 3, 4])\n",
    "\n",
    "print('NumPy vector: ', vec)\n",
    "\n",
    "# Create a matrix with numpy\n",
    "print('_________________________')\n",
    "mat = np.array([[1, 2], [3, 4]])\n",
    "print('NumPy matrix: ')\n",
    "print(mat)"
   ]
  },
  {
   "cell_type": "markdown",
   "metadata": {},
   "source": [
    "### Initialization\n",
    "NumPy offers a way to initialize matrices filled with zero- or one-values."
   ]
  },
  {
   "cell_type": "code",
   "execution_count": 11,
   "metadata": {},
   "outputs": [
    {
     "name": "stdout",
     "output_type": "stream",
     "text": [
      "zero matrix:\n",
      "[[0. 0. 0.]\n",
      " [0. 0. 0.]\n",
      " [0. 0. 0.]\n",
      " [0. 0. 0.]\n",
      " [0. 0. 0.]]\n",
      "_____________________\n",
      "ones matrix:\n",
      "[[1. 1. 1. 1.]\n",
      " [1. 1. 1. 1.]]\n"
     ]
    }
   ],
   "source": [
    "# Create a matrix filled with zeros\n",
    "mat_zero = np.zeros((5, 3))\n",
    "print('zero matrix:')\n",
    "print(mat_zero)\n",
    "\n",
    "# Create a matrix filled with ones\n",
    "print('_____________________')\n",
    "mat_ones = np.ones((2, 4))\n",
    "print('ones matrix:')\n",
    "print(mat_ones)"
   ]
  },
  {
   "cell_type": "markdown",
   "metadata": {},
   "source": [
    "### Indexing\n",
    "When you want to index through the matrix, remember that the index starts at zero. If you want to select the elements from the back, you can use negative indices: `[-1]` selects the last element. The different dimensions of a matrix can be selected at once, i.e. `[row, column]`. The colon `:` can be used as a range selector (`[start:end]` or all via `[:]`)."
   ]
  },
  {
   "cell_type": "code",
   "execution_count": 12,
   "metadata": {},
   "outputs": [
    {
     "name": "stdout",
     "output_type": "stream",
     "text": [
      "Index through a vector: \n",
      "First element of the vector vec=[1 2 3 4] is 1 \n",
      "Last element of the vector vec=[1 2 3 4] is 4 \n",
      "_________________________________________________________________\n",
      "Index the following matrix:\n",
      "[[1 2 3]\n",
      " [4 5 6]\n",
      " [7 8 9]]\n",
      "Third row and second column entry via the 1st possibility is:  8\n",
      "Third row and second column entry via the 2nd possibility is:  8\n",
      "Return a certain range from a matrix:  [7 8]\n"
     ]
    }
   ],
   "source": [
    "# First element of a vector:\n",
    "print('Index through a vector: ')\n",
    "first_elem = vec[0]\n",
    "print('First element of the vector vec=%s is %s ' % (vec, first_elem))\n",
    "\n",
    "# Last element of a vector\n",
    "last_elem = vec[-1]\n",
    "print('Last element of the vector vec=%s is %s ' % (vec, last_elem))\n",
    "\n",
    "# Index a matrix:\n",
    "print('_________________________________________________________________')\n",
    "print('Index the following matrix:')\n",
    "mat_index = np.array([[1, 2, 3],\n",
    "                      [4, 5, 6],\n",
    "                      [7, 8, 9]])\n",
    "print(mat_index)\n",
    "# First possibility:\n",
    "mat21_1 = mat_index[2, 1]\n",
    "print('Third row and second column entry via the 1st possibility is: ', mat21_1)\n",
    "\n",
    "# Second possibility:\n",
    "mat21_2 = mat_index[2][1]\n",
    "print('Third row and second column entry via the 2nd possibility is: ', mat21_2)\n",
    "\n",
    "# Return a range from a matrix:\n",
    "mat_range = mat_index[2, :-1]\n",
    "print('Return a certain range from a matrix: ', mat_range)  # Note, last entry is excluding"
   ]
  },
  {
   "cell_type": "markdown",
   "metadata": {},
   "source": [
    "Boolean values can also be used as index."
   ]
  },
  {
   "cell_type": "code",
   "execution_count": 13,
   "metadata": {},
   "outputs": [
    {
     "name": "stdout",
     "output_type": "stream",
     "text": [
      "Initial matrix\n",
      "[[1 2]\n",
      " [3 4]]\n",
      "_______________________\n",
      "Boolean matrix with the condition that the element value is equal and/or above 2:\n",
      "[[False  True]\n",
      " [ True  True]]\n",
      "_______________________\n",
      "Return the True values as an array:\n",
      "[2 3 4]\n"
     ]
    }
   ],
   "source": [
    "### Boolean operation on matrices\n",
    "# Initial matrix\n",
    "print('Initial matrix')\n",
    "print(mat)\n",
    "\n",
    "# Create a boolean matrix based on a condition:\n",
    "print('_______________________')\n",
    "mat_bool = mat >= 2\n",
    "print('Boolean matrix with the condition that the element value is equal and/or above 2:')\n",
    "print(mat_bool)\n",
    "\n",
    "# Using it as indexing (returns a vector)\n",
    "print('_______________________')\n",
    "mat_bool_indexing = mat[mat_bool]\n",
    "print('Return the True values as an array:')\n",
    "print(mat_bool_indexing)"
   ]
  },
  {
   "cell_type": "markdown",
   "metadata": {},
   "source": [
    "### Extension\n",
    "It is possible to append a row to an existing matrix."
   ]
  },
  {
   "cell_type": "code",
   "execution_count": 14,
   "metadata": {},
   "outputs": [
    {
     "name": "stdout",
     "output_type": "stream",
     "text": [
      "The initial matrix:\n",
      "[[1. 1. 1. 1.]\n",
      " [1. 1. 1. 1.]]\n",
      "_____________________\n",
      "The vector: [1 2 3 4]\n",
      "_____________________\n",
      "The combined matrix:\n",
      "[[1. 1. 1. 1.]\n",
      " [1. 1. 1. 1.]\n",
      " [1. 2. 3. 4.]]\n"
     ]
    }
   ],
   "source": [
    "# Add a vector to an already existing matrix:\n",
    "comb_mat = np.insert(mat_ones, [2], vec, axis = 0)   # Append vec to mat_ones in the first dimension (adds a new row) before the index 2, i.e. at the end\n",
    "print('The initial matrix:')\n",
    "print(mat_ones)\n",
    "print('_____________________')\n",
    "print('The vector:', vec)\n",
    "print('_____________________')\n",
    "print('The combined matrix:')\n",
    "print(comb_mat)"
   ]
  },
  {
   "cell_type": "markdown",
   "metadata": {},
   "source": [
    "### Reshaping\n",
    "It is also possible to flatten a numpy array. A few options are available as to how you want to flatten your array. Per default, NumPy flattens the array in row-major order (option C), see [https://docs.scipy.org/doc/numpy-1.15.0/reference/generated/numpy.ndarray.flatten.html](https://docs.scipy.org/doc/numpy-1.15.0/reference/generated/numpy.ndarray.flatten.html)"
   ]
  },
  {
   "cell_type": "code",
   "execution_count": 15,
   "metadata": {},
   "outputs": [
    {
     "name": "stdout",
     "output_type": "stream",
     "text": [
      "Initial matrix:\n",
      "[[1 2]\n",
      " [3 4]]\n",
      "___________________________________________\n",
      "Row-major flattened 2D array:  [1 2 3 4]\n",
      "Column-major flattened 2D array: [1 3 2 4]\n"
     ]
    }
   ],
   "source": [
    "print('Initial matrix:')\n",
    "print(mat)\n",
    "print('___________________________________________')\n",
    "\n",
    "## Flatten an array:\n",
    "# row-major flattened\n",
    "flat_row_major = mat.flatten()  # Per Default is row-major (or set it manually to 'C')\n",
    "print('Row-major flattened 2D array: ', flat_row_major)\n",
    "\n",
    "# column-major flattened\n",
    "flat_col_major = mat.flatten(order='F')\n",
    "print('Column-major flattened 2D array:', flat_col_major)"
   ]
  },
  {
   "cell_type": "code",
   "execution_count": 16,
   "metadata": {},
   "outputs": [
    {
     "data": {
      "text/plain": "array([[1],\n       [2],\n       [3],\n       [4]])"
     },
     "execution_count": 16,
     "metadata": {},
     "output_type": "execute_result"
    }
   ],
   "source": [
    "# More general operation, e.g. to flatten to a column vector\n",
    "mat.reshape(-1, 1)"
   ]
  },
  {
   "cell_type": "markdown",
   "metadata": {},
   "source": [
    "### Matrix Manipulation\n",
    "NumPy offers some high-level matrix manipulation techniques. It is possible to perform element-wise operations or matrix multiplications."
   ]
  },
  {
   "cell_type": "code",
   "execution_count": 17,
   "metadata": {},
   "outputs": [
    {
     "name": "stdout",
     "output_type": "stream",
     "text": [
      "Initial matrix: \n",
      "[[1 2]\n",
      " [3 4]]\n",
      "_______________________\n",
      "Element-wise matrix multiplication:\n",
      "[[ 1  4]\n",
      " [ 9 16]]\n",
      "_______________________\n",
      "Matrix addition\n",
      "[[2 4]\n",
      " [6 8]]\n",
      "_______________________\n",
      "Matrix multiplication:\n",
      "[[ 7 10]\n",
      " [15 22]]\n"
     ]
    }
   ],
   "source": [
    "###########################\n",
    "### Element-wise matrix operations\n",
    "print('Initial matrix: ')\n",
    "print(mat)\n",
    "# Element-wise matrix multiplications\n",
    "print('_______________________')\n",
    "elem_mat_mul = mat * mat\n",
    "print('Element-wise matrix multiplication:')\n",
    "print(elem_mat_mul)\n",
    "\n",
    "print('_______________________')\n",
    "mat_add = mat + mat\n",
    "print('Matrix addition')\n",
    "print(mat_add)\n",
    "\n",
    "###########################\n",
    "### Matrix multiplication\n",
    "print('_______________________')\n",
    "mat_mul = np.matmul(mat, mat)\n",
    "print('Matrix multiplication:')\n",
    "print(mat_mul)"
   ]
  },
  {
   "cell_type": "markdown",
   "metadata": {},
   "source": [
    "To transpose a vector it is necessary to keep in mind, that 1D-vectors can't get transposed. Therefore one has to change it to a 2D matrix first."
   ]
  },
  {
   "cell_type": "code",
   "execution_count": 18,
   "metadata": {},
   "outputs": [
    {
     "name": "stdout",
     "output_type": "stream",
     "text": [
      "Transposed vector:\n",
      "[1 2 3 4]\n",
      "Vector as matrix (row vector):\n",
      "[[1 2 3 4]]\n",
      "Transposed vector:\n",
      "[[1]\n",
      " [2]\n",
      " [3]\n",
      " [4]]\n"
     ]
    }
   ],
   "source": [
    "### Transpose a vector\n",
    "vec_t = vec.transpose()  # Does not work\n",
    "print('Transposed vector:')\n",
    "print(vec_t)\n",
    "\n",
    "# The vector must first get transformed to a 2D array\n",
    "vec_2d = vec[None, :] # None defines the single dimension (shape 1x4)\n",
    "print('Vector as matrix (row vector):')\n",
    "print(vec_2d)\n",
    "\n",
    "# Now, we can transpose it\n",
    "vec_2d_t = vec_2d.transpose()\n",
    "print('Transposed vector:')\n",
    "print(vec_2d_t)"
   ]
  },
  {
   "cell_type": "markdown",
   "metadata": {},
   "source": [
    "### Broadcasting\n",
    "Mathematically, we cannot combine two matrices with different shapes. In NumPy, however, this may still be possible due to [broadcasting](https://docs.scipy.org/doc/numpy/user/basics.broadcasting.html). This defines how NumPy treats matrices with different shapes and when it is possible to apply operations on them. In general, the smaller matrix is repeated across the unmatched dimensions and then the operation is applied as usual.\n",
    "\n",
    "Let's say we want to add a vector to our matrix defined previously:"
   ]
  },
  {
   "cell_type": "code",
   "execution_count": 19,
   "metadata": {},
   "outputs": [
    {
     "data": {
      "text/plain": "array([[1.1, 1.2]])"
     },
     "execution_count": 19,
     "metadata": {},
     "output_type": "execute_result"
    }
   ],
   "source": [
    "vec_add = np.array([[1.1, 1.2]])\n",
    "vec_add"
   ]
  },
  {
   "cell_type": "markdown",
   "metadata": {},
   "source": [
    "When we want to add this row vector to the matrix, the vector is repeated across the rows of the matrix so that the shapes fit. Then, the matrix addition is applied."
   ]
  },
  {
   "cell_type": "code",
   "execution_count": 20,
   "metadata": {},
   "outputs": [
    {
     "data": {
      "text/plain": "array([[2.1, 3.2],\n       [4.1, 5.2]])"
     },
     "execution_count": 20,
     "metadata": {},
     "output_type": "execute_result"
    }
   ],
   "source": [
    "mat + vec_add"
   ]
  },
  {
   "cell_type": "markdown",
   "metadata": {},
   "source": [
    "When we add a column vector, its content is repeated across the columns of the matrix."
   ]
  },
  {
   "cell_type": "code",
   "execution_count": 21,
   "metadata": {},
   "outputs": [
    {
     "data": {
      "text/plain": "array([[2.1, 3.1],\n       [4.2, 5.2]])"
     },
     "execution_count": 21,
     "metadata": {},
     "output_type": "execute_result"
    }
   ],
   "source": [
    "mat + vec_add.T"
   ]
  },
  {
   "cell_type": "markdown",
   "metadata": {},
   "source": [
    "### `axis` argument\n",
    "There are many functions available which operate on matrices. Very often it is not uniquely defined how this operation should be applied on a matrix and for this there is a `axis` argument available. Let's say we want to calculate the mean of the matrix"
   ]
  },
  {
   "cell_type": "code",
   "execution_count": 22,
   "metadata": {},
   "outputs": [],
   "source": [
    "mat2 = np.array([[1, 2, 3],\n",
    "                 [4, 5, 6]])"
   ]
  },
  {
   "cell_type": "markdown",
   "metadata": {},
   "source": [
    "Then, we can calculate the mean of all values (default)"
   ]
  },
  {
   "cell_type": "code",
   "execution_count": 23,
   "metadata": {},
   "outputs": [
    {
     "data": {
      "text/plain": "3.5"
     },
     "execution_count": 23,
     "metadata": {},
     "output_type": "execute_result"
    }
   ],
   "source": [
    "np.mean(mat2)"
   ]
  },
  {
   "cell_type": "markdown",
   "metadata": {},
   "source": [
    "or we calculate the mean across the rows (the row dimension gets reduced to 1)"
   ]
  },
  {
   "cell_type": "code",
   "execution_count": 24,
   "metadata": {},
   "outputs": [
    {
     "data": {
      "text/plain": "array([2.5, 3.5, 4.5])"
     },
     "execution_count": 24,
     "metadata": {},
     "output_type": "execute_result"
    }
   ],
   "source": [
    "np.mean(mat2, axis=0)"
   ]
  },
  {
   "cell_type": "markdown",
   "metadata": {},
   "source": [
    "Similarly when we want to calculate the mean across the columns"
   ]
  },
  {
   "cell_type": "code",
   "execution_count": 25,
   "metadata": {},
   "outputs": [
    {
     "data": {
      "text/plain": "array([2., 5.])"
     },
     "execution_count": 25,
     "metadata": {},
     "output_type": "execute_result"
    }
   ],
   "source": [
    "np.mean(mat2, axis=1)"
   ]
  },
  {
   "cell_type": "markdown",
   "metadata": {},
   "source": [
    "## Visualize Data\n",
    "There are a variety of packages that can be used to visualize your data. We will introduce just one of them. It´s called **matplotlib**. Some tutorials, examples and the documentation itself can be found at: [https://matplotlib.org/](https://matplotlib.org/). We will show you some basics on how to work with this package. <br>\n",
    "\n",
    "Let´s start by importing the package first and create some sample data."
   ]
  },
  {
   "cell_type": "code",
   "execution_count": 26,
   "metadata": {},
   "outputs": [
    {
     "name": "stdout",
     "output_type": "stream",
     "text": [
      "Sample data:\n",
      "[[10 11 12 12 11 10  9  9]\n",
      " [ 1  2  0  1  2  0  1  2]]\n"
     ]
    }
   ],
   "source": [
    "# Import the matplotlib package and assign a name to it:\n",
    "import matplotlib.pyplot as plt\n",
    "\n",
    "# Create some sample data\n",
    "data = np.array([[10,11,12,12,11,10,9,9], [1,2,0,1,2,0,1,2]])\n",
    "print('Sample data:')\n",
    "print(data)"
   ]
  },
  {
   "cell_type": "code",
   "execution_count": 27,
   "metadata": {},
   "outputs": [
    {
     "data": {
      "text/plain": "<Figure size 640x480 with 1 Axes>",
      "image/png": "[encoded data removed]"
     },
     "metadata": {},
     "output_type": "display_data"
    }
   ],
   "source": [
    "### Basic line plot\n",
    "# We are plotting the first and second row as separate curves\n",
    "plt.figure(1)  # Create a new figure object\n",
    "plt.plot(data[0, :], 'r', data[1, :], 'b')  # Plot the data\n",
    "# Never forget to label your data and describe your axes\n",
    "plt.legend(('Row 1', 'Row 2'))\n",
    "plt.xlabel('$x$-axis')\n",
    "plt.ylabel('$y$-axis')\n",
    "plt.title('Basic line plot');"
   ]
  },
  {
   "cell_type": "code",
   "execution_count": 28,
   "metadata": {},
   "outputs": [
    {
     "data": {
      "text/plain": "<Figure size 640x480 with 2 Axes>",
      "image/png": "[encoded data removed]"
     },
     "metadata": {},
     "output_type": "display_data"
    }
   ],
   "source": [
    "## Basic line plot\n",
    "# We can also assign a name to our axes object and work with that\n",
    "fig, (ax1, ax2) = plt.subplots(2, 1)\n",
    "\n",
    "ax1.plot(data[0, :], 'ro')  # 'r' is coloring the curve in red. 'o' creates a dot plot\n",
    "ax1.set_title('Row 1 data')\n",
    "ax1.set_xlabel('$x$-axis')\n",
    "ax1.set_ylabel('$y$-axis')\n",
    "\n",
    "# Add another subplot for the second row\n",
    "ax2.plot(data[1, :], 'C0', linestyle='dashed')  # C<nr> are shorthand notation for the default colors\n",
    "ax2.set_title('Row 2 data')\n",
    "ax2.set_xlabel('$x$-axis')\n",
    "ax2.set_ylabel('$y$-axis')\n",
    "\n",
    "fig.tight_layout(pad=0.4, w_pad=0.5, h_pad=1.0)  # When you have overlapping plots"
   ]
  },
  {
   "cell_type": "code",
   "execution_count": 29,
   "metadata": {},
   "outputs": [
    {
     "data": {
      "text/plain": "<Figure size 640x480 with 1 Axes>",
      "image/png": "[encoded data removed]"
     },
     "metadata": {},
     "output_type": "display_data"
    }
   ],
   "source": [
    "## Barchart \n",
    "# We are creating a barchart for both rows separately\n",
    "width = 0.35  # Create a width for the bars\n",
    "fig2 = plt.figure(3)\n",
    "bx = fig2.add_subplot(1, 1, 1)\n",
    "bx.bar(np.arange(np.size(data, axis=1)) - width / 2, data[0, :], width=width)\n",
    "bx.bar(np.arange(np.size(data, axis=1)) + width / 2, data[1, :], width=width)\n",
    "bx.legend(('Row 1', 'Row 2'))\n",
    "bx.set_title(('Bar chart plot'))\n",
    "bx.set_xlabel('$x$-axis')\n",
    "bx.set_ylabel('$y$-axis');"
   ]
  },
  {
   "cell_type": "code",
   "execution_count": 30,
   "metadata": {},
   "outputs": [
    {
     "data": {
      "text/plain": "<Figure size 640x480 with 1 Axes>",
      "image/png": "[encoded data removed]"
     },
     "metadata": {},
     "output_type": "display_data"
    }
   ],
   "source": [
    "## Histogram\n",
    "fig3 = plt.figure(4)\n",
    "ax4 = fig3.add_subplot(1,1,1)\n",
    "ax4.hist(data[0,:], bins = 10)\n",
    "ax4.set_title('Histogram based on Row 1')\n",
    "ax4.set_xlabel('$x$-axis')\n",
    "ax4.set_ylabel('$y$-axis');"
   ]
  },
  {
   "cell_type": "code",
   "execution_count": 31,
   "metadata": {},
   "outputs": [
    {
     "data": {
      "text/plain": "<Figure size 640x480 with 1 Axes>",
      "image/png": "[encoded data removed]"
     },
     "metadata": {},
     "output_type": "display_data"
    }
   ],
   "source": [
    "## Scatter plot\n",
    "# For the scatter plot, we need information about x and y\n",
    "fig4 = plt.figure(5)\n",
    "ax5 = fig4.add_subplot(1,1,1)\n",
    "ax5.scatter(data[0,:4], data[1,:4])\n",
    "ax5.scatter(data[0,4:], data[1,4:])\n",
    "ax5.legend(('1st half', '2nd half'))\n",
    "ax5.set_title('Scatter plot')\n",
    "ax5.set_xlabel('$x$-axis')\n",
    "ax5.set_ylabel('$y$-axis');"
   ]
  },
  {
   "cell_type": "markdown",
   "metadata": {},
   "source": [
    "## Interactivity\n",
    "One of the key advantage of Jupyter notebooks is the easy way to include interactive widgets."
   ]
  },
  {
   "cell_type": "code",
   "execution_count": 37,
   "metadata": {},
   "outputs": [
    {
     "data": {
      "text/plain": "interactive(children=(FloatSlider(value=0.0, description='$\\\\omega$:', max=2.0, min=-2.0), Output()), _dom_cla…",
      "application/vnd.jupyter.widget-view+json": {
       "version_major": 2,
       "version_minor": 0,
       "model_id": "d838cd5f59d1447f9fbb852178d7af1b"
      }
     },
     "metadata": {},
     "output_type": "display_data"
    },
    {
     "data": {
      "text/plain": "Canvas(toolbar=Toolbar(toolitems=[('Home', 'Reset original view', 'home', 'home'), ('Back', 'Back to previous …",
      "image/png": "[encoded data removed]",
      "text/html": "\n            <div style=\"display: inline-block;\">\n                <div class=\"jupyter-widgets widget-label\" style=\"text-align: center;\">\n                    Figure\n                </div>\n                <img src='data:image/png;base64,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' width=640.0/>\n            </div>\n        ",
      "application/vnd.jupyter.widget-view+json": {
       "version_major": 2,
       "version_minor": 0,
       "model_id": "ea01d01870da4a7faeaf8e426f105bc9"
      }
     },
     "metadata": {},
     "output_type": "display_data"
    }
   ],
   "source": [
    "%matplotlib widget\n",
    "from ipywidgets import interact\n",
    "import ipywidgets as widgets\n",
    "\n",
    "fig, ax = plt.subplots(1, 1)\n",
    "\n",
    "def plot_sin(frequency):\n",
    "    ax.clear()\n",
    "    \n",
    "    x = np.linspace(-3, 3)\n",
    "    ax.plot(x, np.sin(frequency * x))\n",
    "    ax.set_xlabel('$x$')\n",
    "    ax.set_ylabel(r'$\\sin(\\omega \\cdot x)$')\n",
    "    ax.set_title(r'$\\omega = %.2f$' % frequency)\n",
    "    ax.set_ylim([-1, 1])\n",
    "\n",
    "frequency_slider = widgets.FloatSlider(min=-2, max=2, description='$\\omega$:')\n",
    "interact(plot_sin, frequency=frequency_slider);"
   ]
  },
  {
   "cell_type": "markdown",
   "metadata": {},
   "source": [
    "## Machine Learning with Python\n",
    "Python offers some useful packages that contain machine learning algorithms. One of them is the **sklearn** package. It includes several algorithms like the kNN, Decision Tree, Random Forest, LDA, QDA, SGD, ... <br>\n",
    "Documentation and examples can be found on their homepage: [http://scikit-learn.org/stable/](http://scikit-learn.org/stable/). There are also several blogs about the use of the tools around the net, i.e. on Machinelearningmastery for kNN: [https://machinelearningmastery.com/tutorial-to-implement-k-nearest-neighbors-in-python-from-scratch/](https://machinelearningmastery.com/tutorial-to-implement-k-nearest-neighbors-in-python-from-scratch/). <br>\n",
    "Packages can be imported using the following command (i.e. for kNN or Decision Tree):\n",
    "\n",
    "```python\n",
    "from sklearn.neighbors import KNeighborsClassifier\n",
    "from sklearn.tree import DecisionTreeClassifier\n",
    "```\n",
    "\n",
    "We do not go further into detail here as there will be opportunities in due course."
   ]
  },
  {
   "cell_type": "markdown",
   "metadata": {},
   "source": [
    "## Other useful packages\n",
    "### Pandas\n",
    "There is quite a broad variety of packages that can be used with Python. One of them is the **pandas** package. It can be used for data manipulation and analysis. The documentation as well as some examples can be found here: [http://pandas.pydata.org/pandas-docs/stable/](http://pandas.pydata.org/pandas-docs/stable/). They also have a nice introduction tutorial that can be found here: [https://pandas.pydata.org/pandas-docs/stable/10min.html](https://pandas.pydata.org/pandas-docs/stable/10min.html).\n",
    "\n",
    "### Seaborn\n",
    "For the visualizations, we used the matplotlib library. But there are a lot more libraries that can be used. One of them is **seaborn**. It is a powerful visualization tool for statistics and based on the matplotlib library. Some useful tutorials can be found on their page: [https://seaborn.pydata.org/tutorial.html](https://seaborn.pydata.org/tutorial.html)."
   ]
  },
  {
   "cell_type": "code",
   "execution_count": 33,
   "outputs": [],
   "source": [
    "from sklearn.neighbors import KNeighborsClassifier\n",
    "from sklearn.tree import DecisionTreeClassifier"
   ],
   "metadata": {
    "collapsed": false,
    "pycharm": {
     "name": "#%%\n"
    }
   }
  },
  {
   "cell_type": "code",
   "execution_count": null,
   "outputs": [],
   "source": [],
   "metadata": {
    "collapsed": false,
    "pycharm": {
     "name": "#%%\n"
    }
   }
  }
 ],
 "metadata": {
  "kernelspec": {
   "display_name": "Python 3",
   "language": "python",
   "name": "python3"
  },
  "language_info": {
   "codemirror_mode": {
    "name": "ipython",
    "version": 3
   },
   "file_extension": ".py",
   "mimetype": "text/x-python",
   "name": "python",
   "nbconvert_exporter": "python",
   "pygments_lexer": "ipython3",
   "version": "3.7.3"
  }
 },
 "nbformat": 4,
 "nbformat_minor": 2
}